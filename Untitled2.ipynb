{
 "cells": [
  {
   "cell_type": "code",
   "execution_count": 2,
   "id": "c43115e4",
   "metadata": {},
   "outputs": [],
   "source": [
    "# Make sure the plot shows up\n",
    "%matplotlib inline\n",
    "\n",
    "import aiohttp\n",
    "import asyncio\n",
    "import aiomoex\n",
    "import pandas as pd\n",
    "import numpy as np\n",
    "import matplotlib.pyplot as plt\n",
    "from datetime import datetime\n",
    "import seaborn as sns\n",
    "\n",
    "sns.set()\n",
    "\n",
    "# Graphics in SVG format are more sharp and legible\n",
    "%config InlineBackend.figure_format = 'svg'\n",
    "\n",
    "\n",
    "async def main():\n",
    "    async with aiohttp.ClientSession() as session:\n",
    "        data1 = await aiomoex.get_board_candles(session, 'GMKN')\n",
    "        data2 = await aiomoex.get_board_candles(session, 'SBER')\n",
    "        df1 = pd.DataFrame(data1)\n",
    "        df2 = pd.DataFrame(data2)\n",
    "        #df.set_index('begin', inplace=True)\n",
    "        #print(df.head(), '\\n')\n",
    "        #print(df.tail(), '\\n')\n",
    "        return df1, df2\n",
    "df1, df2 = await main()"
   ]
  },
  {
   "cell_type": "code",
   "execution_count": 4,
   "id": "6f7f3152-2c39-46fc-9bff-d0f460d03d7a",
   "metadata": {},
   "outputs": [
    {
     "name": "stderr",
     "output_type": "stream",
     "text": [
      "ERROR: Could not find a version that satisfies the requirement backports (from versions: none)\n",
      "ERROR: No matching distribution found for backports\n"
     ]
    }
   ],
   "source": [
    "!pip3 install backports"
   ]
  },
  {
   "cell_type": "code",
   "execution_count": 1,
   "id": "a2dc8afc-1de4-4d4e-a99a-09ccfb4c6f6d",
   "metadata": {
    "scrolled": true
   },
   "outputs": [
    {
     "ename": "ModuleNotFoundError",
     "evalue": "No module named 'zoneinfo'",
     "output_type": "error",
     "traceback": [
      "\u001b[1;31m---------------------------------------------------------------------------\u001b[0m",
      "\u001b[1;31mModuleNotFoundError\u001b[0m                       Traceback (most recent call last)",
      "Cell \u001b[1;32mIn[1], line 1\u001b[0m\n\u001b[1;32m----> 1\u001b[0m \u001b[38;5;28;01mimport\u001b[39;00m \u001b[38;5;21;01mzipline\u001b[39;00m\n",
      "File \u001b[1;32m~\\anaconda3\\envs\\env_zipline\\lib\\site-packages\\zipline\\__init__.py:21\u001b[0m\n\u001b[0;32m     17\u001b[0m \u001b[38;5;28;01mimport\u001b[39;00m \u001b[38;5;21;01mnumpy\u001b[39;00m \u001b[38;5;28;01mas\u001b[39;00m \u001b[38;5;21;01mnp\u001b[39;00m\n\u001b[0;32m     19\u001b[0m \u001b[38;5;66;03m# This is *not* a place to dump arbitrary classes/modules for convenience,\u001b[39;00m\n\u001b[0;32m     20\u001b[0m \u001b[38;5;66;03m# it is a place to expose the public interfaces.\u001b[39;00m\n\u001b[1;32m---> 21\u001b[0m \u001b[38;5;28;01mfrom\u001b[39;00m \u001b[38;5;21;01mzipline\u001b[39;00m\u001b[38;5;21;01m.\u001b[39;00m\u001b[38;5;21;01mutils\u001b[39;00m\u001b[38;5;21;01m.\u001b[39;00m\u001b[38;5;21;01mcalendar_utils\u001b[39;00m \u001b[38;5;28;01mimport\u001b[39;00m get_calendar\n\u001b[0;32m     23\u001b[0m \u001b[38;5;28;01mfrom\u001b[39;00m \u001b[38;5;21;01m.\u001b[39;00m \u001b[38;5;28;01mimport\u001b[39;00m data\n\u001b[0;32m     24\u001b[0m \u001b[38;5;28;01mfrom\u001b[39;00m \u001b[38;5;21;01m.\u001b[39;00m \u001b[38;5;28;01mimport\u001b[39;00m finance\n",
      "File \u001b[1;32m~\\anaconda3\\envs\\env_zipline\\lib\\site-packages\\zipline\\utils\\calendar_utils.py:5\u001b[0m\n\u001b[0;32m      2\u001b[0m \u001b[38;5;28;01mfrom\u001b[39;00m \u001b[38;5;21;01mfunctools\u001b[39;00m \u001b[38;5;28;01mimport\u001b[39;00m partial\n\u001b[0;32m      4\u001b[0m \u001b[38;5;28;01mimport\u001b[39;00m \u001b[38;5;21;01mpandas\u001b[39;00m \u001b[38;5;28;01mas\u001b[39;00m \u001b[38;5;21;01mpd\u001b[39;00m\n\u001b[1;32m----> 5\u001b[0m \u001b[38;5;28;01mfrom\u001b[39;00m \u001b[38;5;21;01mexchange_calendars\u001b[39;00m \u001b[38;5;28;01mimport\u001b[39;00m ExchangeCalendar \u001b[38;5;28;01mas\u001b[39;00m TradingCalendar\n\u001b[0;32m      6\u001b[0m \u001b[38;5;28;01mfrom\u001b[39;00m \u001b[38;5;21;01mexchange_calendars\u001b[39;00m \u001b[38;5;28;01mimport\u001b[39;00m clear_calendars\n\u001b[0;32m      7\u001b[0m \u001b[38;5;28;01mfrom\u001b[39;00m \u001b[38;5;21;01mexchange_calendars\u001b[39;00m \u001b[38;5;28;01mimport\u001b[39;00m get_calendar \u001b[38;5;28;01mas\u001b[39;00m ec_get_calendar  \u001b[38;5;66;03m# get_calendar,\u001b[39;00m\n",
      "File \u001b[1;32m~\\anaconda3\\envs\\env_zipline\\lib\\site-packages\\exchange_calendars\\__init__.py:16\u001b[0m\n\u001b[0;32m      1\u001b[0m \u001b[38;5;66;03m#\u001b[39;00m\n\u001b[0;32m      2\u001b[0m \u001b[38;5;66;03m# Copyright 2018 Quantopian, Inc.\u001b[39;00m\n\u001b[0;32m      3\u001b[0m \u001b[38;5;66;03m#\u001b[39;00m\n\u001b[1;32m   (...)\u001b[0m\n\u001b[0;32m     13\u001b[0m \u001b[38;5;66;03m# See the License for the specific language governing permissions and\u001b[39;00m\n\u001b[0;32m     14\u001b[0m \u001b[38;5;66;03m# limitations under the License.\u001b[39;00m\n\u001b[1;32m---> 16\u001b[0m \u001b[38;5;28;01mfrom\u001b[39;00m \u001b[38;5;21;01m.\u001b[39;00m\u001b[38;5;21;01mcalendar_utils\u001b[39;00m \u001b[38;5;28;01mimport\u001b[39;00m (\n\u001b[0;32m     17\u001b[0m     clear_calendars,\n\u001b[0;32m     18\u001b[0m     deregister_calendar,\n\u001b[0;32m     19\u001b[0m     get_calendar,\n\u001b[0;32m     20\u001b[0m     get_calendar_names,\n\u001b[0;32m     21\u001b[0m     register_calendar,\n\u001b[0;32m     22\u001b[0m     register_calendar_alias,\n\u001b[0;32m     23\u001b[0m     register_calendar_type,\n\u001b[0;32m     24\u001b[0m     resolve_alias,\n\u001b[0;32m     25\u001b[0m     names_to_aliases,\n\u001b[0;32m     26\u001b[0m     aliases_to_names,\n\u001b[0;32m     27\u001b[0m )\n\u001b[0;32m     28\u001b[0m \u001b[38;5;28;01mfrom\u001b[39;00m \u001b[38;5;21;01m.\u001b[39;00m\u001b[38;5;21;01mexchange_calendar\u001b[39;00m \u001b[38;5;28;01mimport\u001b[39;00m ExchangeCalendar\n\u001b[0;32m     30\u001b[0m __all__ \u001b[38;5;241m=\u001b[39m [\n\u001b[0;32m     31\u001b[0m     \u001b[38;5;124m\"\u001b[39m\u001b[38;5;124mclear_calendars\u001b[39m\u001b[38;5;124m\"\u001b[39m,\n\u001b[0;32m     32\u001b[0m     \u001b[38;5;124m\"\u001b[39m\u001b[38;5;124mderegister_calendar\u001b[39m\u001b[38;5;124m\"\u001b[39m,\n\u001b[1;32m   (...)\u001b[0m\n\u001b[0;32m     41\u001b[0m     \u001b[38;5;124m\"\u001b[39m\u001b[38;5;124mExchangeCalendar\u001b[39m\u001b[38;5;124m\"\u001b[39m,\n\u001b[0;32m     42\u001b[0m ]\n",
      "File \u001b[1;32m~\\anaconda3\\envs\\env_zipline\\lib\\site-packages\\exchange_calendars\\calendar_utils.py:5\u001b[0m\n\u001b[0;32m      1\u001b[0m \u001b[38;5;28;01mfrom\u001b[39;00m \u001b[38;5;21;01m__future__\u001b[39;00m \u001b[38;5;28;01mimport\u001b[39;00m annotations\n\u001b[0;32m      3\u001b[0m \u001b[38;5;28;01mfrom\u001b[39;00m \u001b[38;5;21;01mtyping\u001b[39;00m \u001b[38;5;28;01mimport\u001b[39;00m Literal\n\u001b[1;32m----> 5\u001b[0m \u001b[38;5;28;01mfrom\u001b[39;00m \u001b[38;5;21;01m.\u001b[39;00m\u001b[38;5;21;01mcalendar_helpers\u001b[39;00m \u001b[38;5;28;01mimport\u001b[39;00m parse_date, Date\n\u001b[0;32m      6\u001b[0m \u001b[38;5;28;01mfrom\u001b[39;00m \u001b[38;5;21;01m.\u001b[39;00m\u001b[38;5;21;01malways_open\u001b[39;00m \u001b[38;5;28;01mimport\u001b[39;00m AlwaysOpenCalendar\n\u001b[0;32m      7\u001b[0m \u001b[38;5;28;01mfrom\u001b[39;00m \u001b[38;5;21;01m.\u001b[39;00m\u001b[38;5;21;01merrors\u001b[39;00m \u001b[38;5;28;01mimport\u001b[39;00m CalendarNameCollision, CyclicCalendarAlias, InvalidCalendarName\n",
      "File \u001b[1;32m~\\anaconda3\\envs\\env_zipline\\lib\\site-packages\\exchange_calendars\\calendar_helpers.py:7\u001b[0m\n\u001b[0;32m      5\u001b[0m \u001b[38;5;28;01mimport\u001b[39;00m \u001b[38;5;21;01mtyping\u001b[39;00m\n\u001b[0;32m      6\u001b[0m \u001b[38;5;28;01mfrom\u001b[39;00m \u001b[38;5;21;01mtyping\u001b[39;00m \u001b[38;5;28;01mimport\u001b[39;00m Literal\n\u001b[1;32m----> 7\u001b[0m \u001b[38;5;28;01mfrom\u001b[39;00m \u001b[38;5;21;01mzoneinfo\u001b[39;00m \u001b[38;5;28;01mimport\u001b[39;00m ZoneInfo\n\u001b[0;32m      9\u001b[0m \u001b[38;5;28;01mimport\u001b[39;00m \u001b[38;5;21;01mnumpy\u001b[39;00m \u001b[38;5;28;01mas\u001b[39;00m \u001b[38;5;21;01mnp\u001b[39;00m\n\u001b[0;32m     10\u001b[0m \u001b[38;5;28;01mimport\u001b[39;00m \u001b[38;5;21;01mpandas\u001b[39;00m \u001b[38;5;28;01mas\u001b[39;00m \u001b[38;5;21;01mpd\u001b[39;00m\n",
      "\u001b[1;31mModuleNotFoundError\u001b[0m: No module named 'zoneinfo'"
     ]
    }
   ],
   "source": [
    "import zipline"
   ]
  }
 ],
 "metadata": {
  "kernelspec": {
   "display_name": "Python 3 (ipykernel)",
   "language": "python",
   "name": "python3"
  },
  "language_info": {
   "codemirror_mode": {
    "name": "ipython",
    "version": 3
   },
   "file_extension": ".py",
   "mimetype": "text/x-python",
   "name": "python",
   "nbconvert_exporter": "python",
   "pygments_lexer": "ipython3",
   "version": "3.8.18"
  }
 },
 "nbformat": 4,
 "nbformat_minor": 5
}
